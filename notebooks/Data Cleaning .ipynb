{
 "cells": [
  {
   "cell_type": "code",
   "execution_count": 1,
   "id": "5ff2c129",
   "metadata": {},
   "outputs": [],
   "source": [
    "import pandas as pd \n",
    "import numpy as np\n",
    "import matplotlib.pyplot as plt \n",
    "import seaborn as sns"
   ]
  },
  {
   "cell_type": "code",
   "execution_count": 2,
   "id": "6d731a04",
   "metadata": {},
   "outputs": [],
   "source": [
    "df = pd.read_csv('../listings.csv')"
   ]
  },
  {
   "cell_type": "markdown",
   "id": "15fde11b",
   "metadata": {},
   "source": [
    "# Data Exploring "
   ]
  },
  {
   "cell_type": "markdown",
   "id": "0e65b2fa",
   "metadata": {},
   "source": [
    "### Compreendendo o data frame"
   ]
  },
  {
   "cell_type": "code",
   "execution_count": 49,
   "id": "4babeb54",
   "metadata": {},
   "outputs": [
    {
     "data": {
      "text/html": [
       "<div>\n",
       "<style scoped>\n",
       "    .dataframe tbody tr th:only-of-type {\n",
       "        vertical-align: middle;\n",
       "    }\n",
       "\n",
       "    .dataframe tbody tr th {\n",
       "        vertical-align: top;\n",
       "    }\n",
       "\n",
       "    .dataframe thead th {\n",
       "        text-align: right;\n",
       "    }\n",
       "</style>\n",
       "<table border=\"1\" class=\"dataframe\">\n",
       "  <thead>\n",
       "    <tr style=\"text-align: right;\">\n",
       "      <th></th>\n",
       "      <th>id</th>\n",
       "      <th>name</th>\n",
       "      <th>host_id</th>\n",
       "      <th>host_name</th>\n",
       "      <th>neighbourhood_group</th>\n",
       "      <th>neighbourhood</th>\n",
       "      <th>latitude</th>\n",
       "      <th>longitude</th>\n",
       "      <th>room_type</th>\n",
       "      <th>price</th>\n",
       "      <th>minimum_nights</th>\n",
       "      <th>number_of_reviews</th>\n",
       "      <th>last_review</th>\n",
       "      <th>reviews_per_month</th>\n",
       "      <th>calculated_host_listings_count</th>\n",
       "      <th>availability_365</th>\n",
       "      <th>number_of_reviews_ltm</th>\n",
       "      <th>license</th>\n",
       "    </tr>\n",
       "  </thead>\n",
       "  <tbody>\n",
       "    <tr>\n",
       "      <th>0</th>\n",
       "      <td>706258</td>\n",
       "      <td>luxury self –contained studios</td>\n",
       "      <td>3629429</td>\n",
       "      <td>Enjoy</td>\n",
       "      <td>NaN</td>\n",
       "      <td>San Lorenzo</td>\n",
       "      <td>40.85114</td>\n",
       "      <td>14.25063</td>\n",
       "      <td>Private room</td>\n",
       "      <td>103</td>\n",
       "      <td>1</td>\n",
       "      <td>8</td>\n",
       "      <td>2019-09-12</td>\n",
       "      <td>0.09</td>\n",
       "      <td>2</td>\n",
       "      <td>347</td>\n",
       "      <td>0</td>\n",
       "      <td>NaN</td>\n",
       "    </tr>\n",
       "    <tr>\n",
       "      <th>1</th>\n",
       "      <td>709020</td>\n",
       "      <td>Casa Frammenti (ex DormidaMè Museo)</td>\n",
       "      <td>3647842</td>\n",
       "      <td>Livio &amp; Chiara</td>\n",
       "      <td>NaN</td>\n",
       "      <td>Avvocata</td>\n",
       "      <td>40.85330</td>\n",
       "      <td>14.24590</td>\n",
       "      <td>Private room</td>\n",
       "      <td>300</td>\n",
       "      <td>2</td>\n",
       "      <td>12</td>\n",
       "      <td>2022-06-05</td>\n",
       "      <td>0.10</td>\n",
       "      <td>11</td>\n",
       "      <td>325</td>\n",
       "      <td>1</td>\n",
       "      <td>NaN</td>\n",
       "    </tr>\n",
       "    <tr>\n",
       "      <th>2</th>\n",
       "      <td>714333</td>\n",
       "      <td>nice seaview studio wifi in center</td>\n",
       "      <td>808350</td>\n",
       "      <td>Giancarlo</td>\n",
       "      <td>NaN</td>\n",
       "      <td>Porto</td>\n",
       "      <td>40.84020</td>\n",
       "      <td>14.25516</td>\n",
       "      <td>Entire home/apt</td>\n",
       "      <td>90</td>\n",
       "      <td>1</td>\n",
       "      <td>58</td>\n",
       "      <td>2022-06-04</td>\n",
       "      <td>0.48</td>\n",
       "      <td>6</td>\n",
       "      <td>337</td>\n",
       "      <td>1</td>\n",
       "      <td>NaN</td>\n",
       "    </tr>\n",
       "    <tr>\n",
       "      <th>3</th>\n",
       "      <td>709069</td>\n",
       "      <td>B&amp;B in city center</td>\n",
       "      <td>3647842</td>\n",
       "      <td>Livio &amp; Chiara</td>\n",
       "      <td>NaN</td>\n",
       "      <td>Porto</td>\n",
       "      <td>40.84000</td>\n",
       "      <td>14.25463</td>\n",
       "      <td>Private room</td>\n",
       "      <td>220</td>\n",
       "      <td>2</td>\n",
       "      <td>69</td>\n",
       "      <td>2022-07-31</td>\n",
       "      <td>0.67</td>\n",
       "      <td>11</td>\n",
       "      <td>364</td>\n",
       "      <td>2</td>\n",
       "      <td>NaN</td>\n",
       "    </tr>\n",
       "    <tr>\n",
       "      <th>4</th>\n",
       "      <td>715014</td>\n",
       "      <td>Centre of Naples - Lovely mansard</td>\n",
       "      <td>2473289</td>\n",
       "      <td>Lucia</td>\n",
       "      <td>NaN</td>\n",
       "      <td>Porto</td>\n",
       "      <td>40.84308</td>\n",
       "      <td>14.25663</td>\n",
       "      <td>Entire home/apt</td>\n",
       "      <td>55</td>\n",
       "      <td>1</td>\n",
       "      <td>11</td>\n",
       "      <td>2019-04-27</td>\n",
       "      <td>0.11</td>\n",
       "      <td>1</td>\n",
       "      <td>317</td>\n",
       "      <td>0</td>\n",
       "      <td>NaN</td>\n",
       "    </tr>\n",
       "  </tbody>\n",
       "</table>\n",
       "</div>"
      ],
      "text/plain": [
       "       id                                 name  host_id       host_name  \\\n",
       "0  706258       luxury self –contained studios  3629429           Enjoy   \n",
       "1  709020  Casa Frammenti (ex DormidaMè Museo)  3647842  Livio & Chiara   \n",
       "2  714333   nice seaview studio wifi in center   808350       Giancarlo   \n",
       "3  709069                   B&B in city center  3647842  Livio & Chiara   \n",
       "4  715014    Centre of Naples - Lovely mansard  2473289           Lucia   \n",
       "\n",
       "   neighbourhood_group neighbourhood  latitude  longitude        room_type  \\\n",
       "0                  NaN   San Lorenzo  40.85114   14.25063     Private room   \n",
       "1                  NaN      Avvocata  40.85330   14.24590     Private room   \n",
       "2                  NaN         Porto  40.84020   14.25516  Entire home/apt   \n",
       "3                  NaN         Porto  40.84000   14.25463     Private room   \n",
       "4                  NaN         Porto  40.84308   14.25663  Entire home/apt   \n",
       "\n",
       "   price  minimum_nights  number_of_reviews last_review  reviews_per_month  \\\n",
       "0    103               1                  8  2019-09-12               0.09   \n",
       "1    300               2                 12  2022-06-05               0.10   \n",
       "2     90               1                 58  2022-06-04               0.48   \n",
       "3    220               2                 69  2022-07-31               0.67   \n",
       "4     55               1                 11  2019-04-27               0.11   \n",
       "\n",
       "   calculated_host_listings_count  availability_365  number_of_reviews_ltm  \\\n",
       "0                               2               347                      0   \n",
       "1                              11               325                      1   \n",
       "2                               6               337                      1   \n",
       "3                              11               364                      2   \n",
       "4                               1               317                      0   \n",
       "\n",
       "  license  \n",
       "0     NaN  \n",
       "1     NaN  \n",
       "2     NaN  \n",
       "3     NaN  \n",
       "4     NaN  "
      ]
     },
     "execution_count": 49,
     "metadata": {},
     "output_type": "execute_result"
    }
   ],
   "source": [
    "df.head()"
   ]
  },
  {
   "cell_type": "markdown",
   "id": "6d1825b8",
   "metadata": {},
   "source": [
    "### Informação Geral sobre o data frame"
   ]
  },
  {
   "cell_type": "code",
   "execution_count": 61,
   "id": "6b229ca6",
   "metadata": {},
   "outputs": [
    {
     "name": "stdout",
     "output_type": "stream",
     "text": [
      "<class 'pandas.core.frame.DataFrame'>\n",
      "RangeIndex: 7520 entries, 0 to 7519\n",
      "Data columns (total 18 columns):\n",
      " #   Column                          Non-Null Count  Dtype  \n",
      "---  ------                          --------------  -----  \n",
      " 0   id                              7520 non-null   int64  \n",
      " 1   name                            7520 non-null   object \n",
      " 2   host_id                         7520 non-null   int64  \n",
      " 3   host_name                       7507 non-null   object \n",
      " 4   neighbourhood_group             0 non-null      float64\n",
      " 5   neighbourhood                   7520 non-null   object \n",
      " 6   latitude                        7520 non-null   float64\n",
      " 7   longitude                       7520 non-null   float64\n",
      " 8   room_type                       7520 non-null   object \n",
      " 9   price                           7520 non-null   int64  \n",
      " 10  minimum_nights                  7520 non-null   int64  \n",
      " 11  number_of_reviews               7520 non-null   int64  \n",
      " 12  last_review                     6198 non-null   object \n",
      " 13  reviews_per_month               6198 non-null   float64\n",
      " 14  calculated_host_listings_count  7520 non-null   int64  \n",
      " 15  availability_365                7520 non-null   int64  \n",
      " 16  number_of_reviews_ltm           7520 non-null   int64  \n",
      " 17  license                         437 non-null    object \n",
      "dtypes: float64(4), int64(8), object(6)\n",
      "memory usage: 1.0+ MB\n"
     ]
    }
   ],
   "source": [
    "df.info()"
   ]
  },
  {
   "cell_type": "markdown",
   "id": "15523f76",
   "metadata": {},
   "source": [
    "### Visão geral das variáveis categóricas"
   ]
  },
  {
   "cell_type": "code",
   "execution_count": 58,
   "id": "34884e3b",
   "metadata": {},
   "outputs": [
    {
     "data": {
      "text/html": [
       "<div>\n",
       "<style scoped>\n",
       "    .dataframe tbody tr th:only-of-type {\n",
       "        vertical-align: middle;\n",
       "    }\n",
       "\n",
       "    .dataframe tbody tr th {\n",
       "        vertical-align: top;\n",
       "    }\n",
       "\n",
       "    .dataframe thead th {\n",
       "        text-align: right;\n",
       "    }\n",
       "</style>\n",
       "<table border=\"1\" class=\"dataframe\">\n",
       "  <thead>\n",
       "    <tr style=\"text-align: right;\">\n",
       "      <th></th>\n",
       "      <th>count</th>\n",
       "      <th>unique</th>\n",
       "      <th>top</th>\n",
       "      <th>freq</th>\n",
       "    </tr>\n",
       "  </thead>\n",
       "  <tbody>\n",
       "    <tr>\n",
       "      <th>name</th>\n",
       "      <td>7520</td>\n",
       "      <td>7408</td>\n",
       "      <td>Camera Matrimoniale</td>\n",
       "      <td>4</td>\n",
       "    </tr>\n",
       "    <tr>\n",
       "      <th>host_name</th>\n",
       "      <td>7507</td>\n",
       "      <td>1094</td>\n",
       "      <td>Salvatore</td>\n",
       "      <td>236</td>\n",
       "    </tr>\n",
       "    <tr>\n",
       "      <th>neighbourhood</th>\n",
       "      <td>7520</td>\n",
       "      <td>30</td>\n",
       "      <td>San Lorenzo</td>\n",
       "      <td>1316</td>\n",
       "    </tr>\n",
       "    <tr>\n",
       "      <th>room_type</th>\n",
       "      <td>7520</td>\n",
       "      <td>4</td>\n",
       "      <td>Entire home/apt</td>\n",
       "      <td>4759</td>\n",
       "    </tr>\n",
       "    <tr>\n",
       "      <th>last_review</th>\n",
       "      <td>6198</td>\n",
       "      <td>959</td>\n",
       "      <td>2022-09-11</td>\n",
       "      <td>246</td>\n",
       "    </tr>\n",
       "    <tr>\n",
       "      <th>license</th>\n",
       "      <td>437</td>\n",
       "      <td>354</td>\n",
       "      <td>15063049EXT1042</td>\n",
       "      <td>7</td>\n",
       "    </tr>\n",
       "  </tbody>\n",
       "</table>\n",
       "</div>"
      ],
      "text/plain": [
       "              count unique                  top  freq\n",
       "name           7520   7408  Camera Matrimoniale     4\n",
       "host_name      7507   1094            Salvatore   236\n",
       "neighbourhood  7520     30          San Lorenzo  1316\n",
       "room_type      7520      4      Entire home/apt  4759\n",
       "last_review    6198    959           2022-09-11   246\n",
       "license         437    354      15063049EXT1042     7"
      ]
     },
     "execution_count": 58,
     "metadata": {},
     "output_type": "execute_result"
    }
   ],
   "source": [
    "df.describe(include=\"object\").T"
   ]
  },
  {
   "cell_type": "markdown",
   "id": "88c88feb",
   "metadata": {},
   "source": [
    "### Número de Colunas "
   ]
  },
  {
   "cell_type": "code",
   "execution_count": 54,
   "id": "2e8508f5",
   "metadata": {},
   "outputs": [
    {
     "data": {
      "text/plain": [
       "18"
      ]
     },
     "execution_count": 54,
     "metadata": {},
     "output_type": "execute_result"
    }
   ],
   "source": [
    "len(df.columns)"
   ]
  },
  {
   "cell_type": "markdown",
   "id": "3cb0903b",
   "metadata": {},
   "source": [
    "### Números de linhas no Data Frame "
   ]
  },
  {
   "cell_type": "code",
   "execution_count": 53,
   "id": "3bd36b24",
   "metadata": {},
   "outputs": [
    {
     "data": {
      "text/plain": [
       "7520"
      ]
     },
     "execution_count": 53,
     "metadata": {},
     "output_type": "execute_result"
    }
   ],
   "source": [
    "len(df)"
   ]
  },
  {
   "cell_type": "markdown",
   "id": "cb29efa4",
   "metadata": {},
   "source": [
    "### Numero de nomes de afintriões "
   ]
  },
  {
   "cell_type": "code",
   "execution_count": 50,
   "id": "35242cdc",
   "metadata": {},
   "outputs": [
    {
     "data": {
      "text/plain": [
       "1095"
      ]
     },
     "execution_count": 50,
     "metadata": {},
     "output_type": "execute_result"
    }
   ],
   "source": [
    "len(df.host_name.unique())"
   ]
  },
  {
   "cell_type": "markdown",
   "id": "68db4a55",
   "metadata": {},
   "source": [
    "### Numero de anfitriões únicos "
   ]
  },
  {
   "cell_type": "code",
   "execution_count": 51,
   "id": "e341f4aa",
   "metadata": {},
   "outputs": [
    {
     "data": {
      "text/plain": [
       "4130"
      ]
     },
     "execution_count": 51,
     "metadata": {},
     "output_type": "execute_result"
    }
   ],
   "source": [
    "len(df.host_id.unique())"
   ]
  },
  {
   "cell_type": "markdown",
   "id": "bc088800",
   "metadata": {},
   "source": [
    "Podemos observar no <i>host_name</i> que existem hosts com o mesmo nome porém o  <i>host_id</i> é unico para cada host "
   ]
  },
  {
   "cell_type": "markdown",
   "id": "d9c5e655",
   "metadata": {},
   "source": [
    "### Número de Regiões de Naple "
   ]
  },
  {
   "cell_type": "code",
   "execution_count": 52,
   "id": "fa941d55",
   "metadata": {},
   "outputs": [
    {
     "data": {
      "text/plain": [
       "30"
      ]
     },
     "execution_count": 52,
     "metadata": {},
     "output_type": "execute_result"
    }
   ],
   "source": [
    "len(df.neighbourhood.unique())"
   ]
  },
  {
   "cell_type": "markdown",
   "id": "c7717305",
   "metadata": {},
   "source": [
    "# Data Cleaning "
   ]
  },
  {
   "cell_type": "markdown",
   "id": "1904d7f7",
   "metadata": {},
   "source": [
    "### Vamos fazer uma cópia do data frame original e modificar a cópia mantendo a original intacta"
   ]
  },
  {
   "cell_type": "code",
   "execution_count": 117,
   "id": "635490fa",
   "metadata": {},
   "outputs": [],
   "source": [
    "df_copy = df.copy()"
   ]
  },
  {
   "cell_type": "markdown",
   "id": "2ab63b21",
   "metadata": {},
   "source": [
    "### Como não vamos precisar do id para nenhuma análise nem estudo estatístico vamos retirá-las do data frame  "
   ]
  },
  {
   "cell_type": "code",
   "execution_count": 142,
   "id": "ad6724e7",
   "metadata": {},
   "outputs": [],
   "source": [
    "df_copy.drop([\"id\"], axis=1, inplace=True)"
   ]
  },
  {
   "cell_type": "markdown",
   "id": "e521f67f",
   "metadata": {},
   "source": [
    "### Como a percentagem de null values é apenas 0.2% para o host_name o que corresponde a apenas 13 entradas vamos então deletar essas linhas,pois são poucas "
   ]
  },
  {
   "cell_type": "code",
   "execution_count": 159,
   "id": "2111ce2e",
   "metadata": {},
   "outputs": [],
   "source": [
    "df_copy.dropna(axis=0, inplace=True, subset = [\"host_name\"])"
   ]
  },
  {
   "cell_type": "markdown",
   "id": "092ac861",
   "metadata": {},
   "source": [
    "### Percentagem de null values para todas as variáveis que possuem null values "
   ]
  },
  {
   "cell_type": "code",
   "execution_count": 119,
   "id": "7b3eb4b8",
   "metadata": {},
   "outputs": [
    {
     "data": {
      "text/plain": [
       "host_name                13\n",
       "last_review            1322\n",
       "reviews_per_month      1322\n",
       "license                7083\n",
       "neighbourhood_group    7520\n",
       "dtype: int64"
      ]
     },
     "execution_count": 119,
     "metadata": {},
     "output_type": "execute_result"
    }
   ],
   "source": [
    "absolute_of_null = df_copy.isnull().sum()\n",
    "absolute_of_null = absolute_of_null[absolute_of_null>0].sort_values()\n",
    "absolute_of_null"
   ]
  },
  {
   "cell_type": "code",
   "execution_count": 81,
   "id": "0627b224",
   "metadata": {},
   "outputs": [
    {
     "data": {
      "text/plain": [
       "host_name                0.172872\n",
       "last_review             17.579787\n",
       "reviews_per_month       17.579787\n",
       "license                 94.188830\n",
       "neighbourhood_group    100.000000\n",
       "dtype: float64"
      ]
     },
     "execution_count": 81,
     "metadata": {},
     "output_type": "execute_result"
    }
   ],
   "source": [
    "percentages_of_null = (df_copy.isnull().sum() / len(df_copy))*100\n",
    "percentages_of_null = percentages_of_null[percentages_of_null>0].sort_values()\n",
    "percentages_of_null"
   ]
  },
  {
   "cell_type": "code",
   "execution_count": 141,
   "id": "8e56bf40",
   "metadata": {},
   "outputs": [
    {
     "data": {
      "image/png": "[encoded data removed]",
      "text/plain": [
       "<Figure size 600x400 with 1 Axes>"
      ]
     },
     "metadata": {
      "needs_background": "light"
     },
     "output_type": "display_data"
    }
   ],
   "source": [
    "plt.figure(figsize=(6,4), dpi=100)\n",
    "percentages_of_null.plot(kind=\"bar\")\n",
    "plt.title(\"Percentage of null values for each variable\")\n",
    "plt.xticks(rotation=45)\n",
    "plt.ylim(0,110)\n",
    "plt.text(-0.1,5,f'{np.round(percentages_of_null[0],1)}%')\n",
    "plt.text(0.8,20,f'{np.round(percentages_of_null[1],1)}%')\n",
    "plt.text(1.8,20,f'{np.round(percentages_of_null[2],1)}%')\n",
    "plt.text(2.8,96,f'{np.round(percentages_of_null[3],1)}%')\n",
    "plt.text(3.8,102,f'{np.round(percentages_of_null[4],1)}%')\n",
    "plt.tight_layout()\n",
    "plt.savefig(\"percentage.jpeg\");"
   ]
  },
  {
   "cell_type": "code",
   "execution_count": 140,
   "id": "4959c892",
   "metadata": {},
   "outputs": [
    {
     "data": {
      "image/png": "[encoded data removed]",
      "text/plain": [
       "<Figure size 600x400 with 1 Axes>"
      ]
     },
     "metadata": {
      "needs_background": "light"
     },
     "output_type": "display_data"
    }
   ],
   "source": [
    "plt.figure(figsize=(6,4), dpi=100)\n",
    "absolute_of_null.plot(kind='bar')\n",
    "plt.title(\"Absolute number of null values for each variable\")\n",
    "plt.xticks(rotation=45)\n",
    "plt.ylim(0,8000)\n",
    "plt.text(-0.1,250,f'{np.round(absolute_of_null[0],1)}')\n",
    "plt.text(0.8,1600,f'{np.round(absolute_of_null[1],1)}')\n",
    "plt.text(1.8,1600,f'{np.round(absolute_of_null[2],1)}')\n",
    "plt.text(2.8,7300,f'{np.round(absolute_of_null[3],1)}')\n",
    "plt.text(3.8,7600,f'{np.round(absolute_of_null[4],1)}')\n",
    "plt.tight_layout()\n",
    "plt.savefig('absolute.jpeg');"
   ]
  },
  {
   "cell_type": "markdown",
   "id": "d3609675",
   "metadata": {},
   "source": [
    "### Podemos observar nos gráficos acima que a percentagem e o valor absoluto de null values para as variáveis que possuem null values "
   ]
  },
  {
   "cell_type": "markdown",
   "id": "6540b36c",
   "metadata": {},
   "source": [
    "### Vamos retirar as variáveis 'licence' e 'neighbourhood_group' por terem 94% e 100% de valores em branco respevtivamente. Ou seja, vamos eliminar ambas as colunas "
   ]
  },
  {
   "cell_type": "code",
   "execution_count": 150,
   "id": "eead10ff",
   "metadata": {},
   "outputs": [],
   "source": [
    "df_copy.drop([\"license\", \"neighbourhood_group\"], axis=1, inplace=True)"
   ]
  },
  {
   "cell_type": "markdown",
   "id": "1a563256",
   "metadata": {},
   "source": [
    "### Podemos observar abaixo que os valores que estão em falta para 'reviews_per_month' e 'last_review' são para casos em que o numero de reviews é igual a zero. Logo vamos colocar o valor 0.0 para 'reviews_per_month' e um ano fictício para o 'last_review' como '1900-01-01' pois ainda não sabemos se vamos utilizar essa informação ainda\t"
   ]
  },
  {
   "cell_type": "code",
   "execution_count": 13,
   "id": "228963fd",
   "metadata": {},
   "outputs": [
    {
     "data": {
      "text/html": [
       "<div>\n",
       "<style scoped>\n",
       "    .dataframe tbody tr th:only-of-type {\n",
       "        vertical-align: middle;\n",
       "    }\n",
       "\n",
       "    .dataframe tbody tr th {\n",
       "        vertical-align: top;\n",
       "    }\n",
       "\n",
       "    .dataframe thead th {\n",
       "        text-align: right;\n",
       "    }\n",
       "</style>\n",
       "<table border=\"1\" class=\"dataframe\">\n",
       "  <thead>\n",
       "    <tr style=\"text-align: right;\">\n",
       "      <th></th>\n",
       "      <th>name</th>\n",
       "      <th>host_id</th>\n",
       "      <th>neighbourhood</th>\n",
       "      <th>latitude</th>\n",
       "      <th>longitude</th>\n",
       "      <th>room_type</th>\n",
       "      <th>price</th>\n",
       "      <th>minimum_nights</th>\n",
       "      <th>number_of_reviews</th>\n",
       "      <th>last_review</th>\n",
       "      <th>reviews_per_month</th>\n",
       "      <th>calculated_host_listings_count</th>\n",
       "      <th>availability_365</th>\n",
       "      <th>number_of_reviews_ltm</th>\n",
       "    </tr>\n",
       "  </thead>\n",
       "  <tbody>\n",
       "    <tr>\n",
       "      <th>10</th>\n",
       "      <td>Naturists rooms in the heart of city</td>\n",
       "      <td>14169118</td>\n",
       "      <td>San Carlo all'Arena</td>\n",
       "      <td>40.85759</td>\n",
       "      <td>14.25943</td>\n",
       "      <td>Private room</td>\n",
       "      <td>58</td>\n",
       "      <td>2</td>\n",
       "      <td>0</td>\n",
       "      <td>NaN</td>\n",
       "      <td>NaN</td>\n",
       "      <td>7</td>\n",
       "      <td>0</td>\n",
       "      <td>0</td>\n",
       "    </tr>\n",
       "    <tr>\n",
       "      <th>59</th>\n",
       "      <td>B&amp;B Il Viaggiatore: stanza Gialla</td>\n",
       "      <td>1191263</td>\n",
       "      <td>San Giuseppe</td>\n",
       "      <td>40.84797</td>\n",
       "      <td>14.25014</td>\n",
       "      <td>Private room</td>\n",
       "      <td>135</td>\n",
       "      <td>2</td>\n",
       "      <td>0</td>\n",
       "      <td>NaN</td>\n",
       "      <td>NaN</td>\n",
       "      <td>4</td>\n",
       "      <td>343</td>\n",
       "      <td>0</td>\n",
       "    </tr>\n",
       "    <tr>\n",
       "      <th>76</th>\n",
       "      <td>Beautiful B &amp; B Casa Avallone</td>\n",
       "      <td>1349033</td>\n",
       "      <td>Montecalvario</td>\n",
       "      <td>40.84476</td>\n",
       "      <td>14.24539</td>\n",
       "      <td>Private room</td>\n",
       "      <td>75</td>\n",
       "      <td>4</td>\n",
       "      <td>0</td>\n",
       "      <td>NaN</td>\n",
       "      <td>NaN</td>\n",
       "      <td>1</td>\n",
       "      <td>199</td>\n",
       "      <td>0</td>\n",
       "    </tr>\n",
       "    <tr>\n",
       "      <th>85</th>\n",
       "      <td>\" Ténéré \" room in the heart of historical cen...</td>\n",
       "      <td>14169118</td>\n",
       "      <td>Stella</td>\n",
       "      <td>40.85993</td>\n",
       "      <td>14.24994</td>\n",
       "      <td>Private room</td>\n",
       "      <td>80</td>\n",
       "      <td>2</td>\n",
       "      <td>0</td>\n",
       "      <td>NaN</td>\n",
       "      <td>NaN</td>\n",
       "      <td>7</td>\n",
       "      <td>295</td>\n",
       "      <td>0</td>\n",
       "    </tr>\n",
       "    <tr>\n",
       "      <th>104</th>\n",
       "      <td>B&amp;B Il Viaggiatore: stanza Azzurra</td>\n",
       "      <td>1191263</td>\n",
       "      <td>Montecalvario</td>\n",
       "      <td>40.84815</td>\n",
       "      <td>14.24941</td>\n",
       "      <td>Private room</td>\n",
       "      <td>95</td>\n",
       "      <td>2</td>\n",
       "      <td>0</td>\n",
       "      <td>NaN</td>\n",
       "      <td>NaN</td>\n",
       "      <td>4</td>\n",
       "      <td>338</td>\n",
       "      <td>0</td>\n",
       "    </tr>\n",
       "  </tbody>\n",
       "</table>\n",
       "</div>"
      ],
      "text/plain": [
       "                                                  name   host_id  \\\n",
       "10                Naturists rooms in the heart of city  14169118   \n",
       "59                   B&B Il Viaggiatore: stanza Gialla   1191263   \n",
       "76                       Beautiful B & B Casa Avallone   1349033   \n",
       "85   \" Ténéré \" room in the heart of historical cen...  14169118   \n",
       "104                 B&B Il Viaggiatore: stanza Azzurra   1191263   \n",
       "\n",
       "           neighbourhood  latitude  longitude     room_type  price  \\\n",
       "10   San Carlo all'Arena  40.85759   14.25943  Private room     58   \n",
       "59          San Giuseppe  40.84797   14.25014  Private room    135   \n",
       "76         Montecalvario  40.84476   14.24539  Private room     75   \n",
       "85                Stella  40.85993   14.24994  Private room     80   \n",
       "104        Montecalvario  40.84815   14.24941  Private room     95   \n",
       "\n",
       "     minimum_nights  number_of_reviews last_review  reviews_per_month  \\\n",
       "10                2                  0         NaN                NaN   \n",
       "59                2                  0         NaN                NaN   \n",
       "76                4                  0         NaN                NaN   \n",
       "85                2                  0         NaN                NaN   \n",
       "104               2                  0         NaN                NaN   \n",
       "\n",
       "     calculated_host_listings_count  availability_365  number_of_reviews_ltm  \n",
       "10                                7                 0                      0  \n",
       "59                                4               343                      0  \n",
       "76                                1               199                      0  \n",
       "85                                7               295                      0  \n",
       "104                               4               338                      0  "
      ]
     },
     "execution_count": 13,
     "metadata": {},
     "output_type": "execute_result"
    }
   ],
   "source": [
    "df_copy[df_copy[\"last_review\"].isnull()].head()"
   ]
  },
  {
   "cell_type": "markdown",
   "id": "bd6310e2",
   "metadata": {},
   "source": [
    "### Acrescentar 0.0 nos null values de reviews_per_month"
   ]
  },
  {
   "cell_type": "code",
   "execution_count": 153,
   "id": "cc3041a0",
   "metadata": {},
   "outputs": [],
   "source": [
    "df_copy[\"reviews_per_month\"].fillna(0.00, inplace=True)"
   ]
  },
  {
   "cell_type": "markdown",
   "id": "81e8031c",
   "metadata": {},
   "source": [
    "### Acrescentando uma data para as que têm null values para last_review"
   ]
  },
  {
   "cell_type": "code",
   "execution_count": 154,
   "id": "316e3016",
   "metadata": {},
   "outputs": [],
   "source": [
    "df_copy[\"last_review\"].fillna('1900-01-01', inplace=True)"
   ]
  },
  {
   "cell_type": "markdown",
   "id": "3b0ebfaa",
   "metadata": {},
   "source": [
    "### Podemos ver abaixo que os dados estão limpos "
   ]
  },
  {
   "cell_type": "code",
   "execution_count": 160,
   "id": "7141465e",
   "metadata": {},
   "outputs": [
    {
     "data": {
      "text/plain": [
       "name                              0.0\n",
       "host_id                           0.0\n",
       "host_name                         0.0\n",
       "neighbourhood                     0.0\n",
       "latitude                          0.0\n",
       "longitude                         0.0\n",
       "room_type                         0.0\n",
       "price                             0.0\n",
       "minimum_nights                    0.0\n",
       "number_of_reviews                 0.0\n",
       "last_review                       0.0\n",
       "reviews_per_month                 0.0\n",
       "calculated_host_listings_count    0.0\n",
       "availability_365                  0.0\n",
       "number_of_reviews_ltm             0.0\n",
       "dtype: float64"
      ]
     },
     "execution_count": 160,
     "metadata": {},
     "output_type": "execute_result"
    }
   ],
   "source": [
    "percentages_of_null = (df_copy.isnull().sum() / len(df_copy))*100\n",
    "percentages_of_null"
   ]
  },
  {
   "cell_type": "code",
   "execution_count": 162,
   "id": "a03b3e50",
   "metadata": {},
   "outputs": [],
   "source": [
    "df_copy.to_csv('data_cleaned.csv')"
   ]
  }
 ],
 "metadata": {
  "kernelspec": {
   "display_name": "Python 3 (ipykernel)",
   "language": "python",
   "name": "python3"
  },
  "language_info": {
   "codemirror_mode": {
    "name": "ipython",
    "version": 3
   },
   "file_extension": ".py",
   "mimetype": "text/x-python",
   "name": "python",
   "nbconvert_exporter": "python",
   "pygments_lexer": "ipython3",
   "version": "3.9.7"
  }
 },
 "nbformat": 4,
 "nbformat_minor": 5
}
