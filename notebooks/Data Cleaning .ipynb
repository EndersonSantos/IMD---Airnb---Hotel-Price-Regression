{
 "cells": [
  {
   "cell_type": "code",
   "execution_count": 21,
   "id": "5ff2c129",
   "metadata": {},
   "outputs": [],
   "source": [
    "import pandas as pd \n",
    "import numpy as np\n",
    "import matplotlib.pyplot as plt \n",
    "import seaborn as sns"
   ]
  },
  {
   "cell_type": "code",
   "execution_count": 2,
   "id": "6d731a04",
   "metadata": {},
   "outputs": [],
   "source": [
    "df = pd.read_csv('../listings.csv')"
   ]
  },
  {
   "cell_type": "markdown",
   "id": "1904d7f7",
   "metadata": {},
   "source": [
    "### Vamos fazer uma cópia do data frame original e modificar a cópia mantendo a original intacta"
   ]
  },
  {
   "cell_type": "code",
   "execution_count": 48,
   "id": "217615ab",
   "metadata": {},
   "outputs": [],
   "source": [
    "df_copy = df.copy()"
   ]
  },
  {
   "cell_type": "code",
   "execution_count": 6,
   "id": "4babeb54",
   "metadata": {},
   "outputs": [
    {
     "data": {
      "text/html": [
       "<div>\n",
       "<style scoped>\n",
       "    .dataframe tbody tr th:only-of-type {\n",
       "        vertical-align: middle;\n",
       "    }\n",
       "\n",
       "    .dataframe tbody tr th {\n",
       "        vertical-align: top;\n",
       "    }\n",
       "\n",
       "    .dataframe thead th {\n",
       "        text-align: right;\n",
       "    }\n",
       "</style>\n",
       "<table border=\"1\" class=\"dataframe\">\n",
       "  <thead>\n",
       "    <tr style=\"text-align: right;\">\n",
       "      <th></th>\n",
       "      <th>id</th>\n",
       "      <th>name</th>\n",
       "      <th>host_id</th>\n",
       "      <th>host_name</th>\n",
       "      <th>neighbourhood_group</th>\n",
       "      <th>neighbourhood</th>\n",
       "      <th>latitude</th>\n",
       "      <th>longitude</th>\n",
       "      <th>room_type</th>\n",
       "      <th>price</th>\n",
       "      <th>minimum_nights</th>\n",
       "      <th>number_of_reviews</th>\n",
       "      <th>last_review</th>\n",
       "      <th>reviews_per_month</th>\n",
       "      <th>calculated_host_listings_count</th>\n",
       "      <th>availability_365</th>\n",
       "      <th>number_of_reviews_ltm</th>\n",
       "      <th>license</th>\n",
       "    </tr>\n",
       "  </thead>\n",
       "  <tbody>\n",
       "    <tr>\n",
       "      <th>0</th>\n",
       "      <td>706258</td>\n",
       "      <td>luxury self –contained studios</td>\n",
       "      <td>3629429</td>\n",
       "      <td>Enjoy</td>\n",
       "      <td>NaN</td>\n",
       "      <td>San Lorenzo</td>\n",
       "      <td>40.85114</td>\n",
       "      <td>14.25063</td>\n",
       "      <td>Private room</td>\n",
       "      <td>103</td>\n",
       "      <td>1</td>\n",
       "      <td>8</td>\n",
       "      <td>2019-09-12</td>\n",
       "      <td>0.09</td>\n",
       "      <td>2</td>\n",
       "      <td>347</td>\n",
       "      <td>0</td>\n",
       "      <td>NaN</td>\n",
       "    </tr>\n",
       "    <tr>\n",
       "      <th>1</th>\n",
       "      <td>709020</td>\n",
       "      <td>Casa Frammenti (ex DormidaMè Museo)</td>\n",
       "      <td>3647842</td>\n",
       "      <td>Livio &amp; Chiara</td>\n",
       "      <td>NaN</td>\n",
       "      <td>Avvocata</td>\n",
       "      <td>40.85330</td>\n",
       "      <td>14.24590</td>\n",
       "      <td>Private room</td>\n",
       "      <td>300</td>\n",
       "      <td>2</td>\n",
       "      <td>12</td>\n",
       "      <td>2022-06-05</td>\n",
       "      <td>0.10</td>\n",
       "      <td>11</td>\n",
       "      <td>325</td>\n",
       "      <td>1</td>\n",
       "      <td>NaN</td>\n",
       "    </tr>\n",
       "    <tr>\n",
       "      <th>2</th>\n",
       "      <td>714333</td>\n",
       "      <td>nice seaview studio wifi in center</td>\n",
       "      <td>808350</td>\n",
       "      <td>Giancarlo</td>\n",
       "      <td>NaN</td>\n",
       "      <td>Porto</td>\n",
       "      <td>40.84020</td>\n",
       "      <td>14.25516</td>\n",
       "      <td>Entire home/apt</td>\n",
       "      <td>90</td>\n",
       "      <td>1</td>\n",
       "      <td>58</td>\n",
       "      <td>2022-06-04</td>\n",
       "      <td>0.48</td>\n",
       "      <td>6</td>\n",
       "      <td>337</td>\n",
       "      <td>1</td>\n",
       "      <td>NaN</td>\n",
       "    </tr>\n",
       "    <tr>\n",
       "      <th>3</th>\n",
       "      <td>709069</td>\n",
       "      <td>B&amp;B in city center</td>\n",
       "      <td>3647842</td>\n",
       "      <td>Livio &amp; Chiara</td>\n",
       "      <td>NaN</td>\n",
       "      <td>Porto</td>\n",
       "      <td>40.84000</td>\n",
       "      <td>14.25463</td>\n",
       "      <td>Private room</td>\n",
       "      <td>220</td>\n",
       "      <td>2</td>\n",
       "      <td>69</td>\n",
       "      <td>2022-07-31</td>\n",
       "      <td>0.67</td>\n",
       "      <td>11</td>\n",
       "      <td>364</td>\n",
       "      <td>2</td>\n",
       "      <td>NaN</td>\n",
       "    </tr>\n",
       "    <tr>\n",
       "      <th>4</th>\n",
       "      <td>715014</td>\n",
       "      <td>Centre of Naples - Lovely mansard</td>\n",
       "      <td>2473289</td>\n",
       "      <td>Lucia</td>\n",
       "      <td>NaN</td>\n",
       "      <td>Porto</td>\n",
       "      <td>40.84308</td>\n",
       "      <td>14.25663</td>\n",
       "      <td>Entire home/apt</td>\n",
       "      <td>55</td>\n",
       "      <td>1</td>\n",
       "      <td>11</td>\n",
       "      <td>2019-04-27</td>\n",
       "      <td>0.11</td>\n",
       "      <td>1</td>\n",
       "      <td>317</td>\n",
       "      <td>0</td>\n",
       "      <td>NaN</td>\n",
       "    </tr>\n",
       "  </tbody>\n",
       "</table>\n",
       "</div>"
      ],
      "text/plain": [
       "       id                                 name  host_id       host_name  \\\n",
       "0  706258       luxury self –contained studios  3629429           Enjoy   \n",
       "1  709020  Casa Frammenti (ex DormidaMè Museo)  3647842  Livio & Chiara   \n",
       "2  714333   nice seaview studio wifi in center   808350       Giancarlo   \n",
       "3  709069                   B&B in city center  3647842  Livio & Chiara   \n",
       "4  715014    Centre of Naples - Lovely mansard  2473289           Lucia   \n",
       "\n",
       "   neighbourhood_group neighbourhood  latitude  longitude        room_type  \\\n",
       "0                  NaN   San Lorenzo  40.85114   14.25063     Private room   \n",
       "1                  NaN      Avvocata  40.85330   14.24590     Private room   \n",
       "2                  NaN         Porto  40.84020   14.25516  Entire home/apt   \n",
       "3                  NaN         Porto  40.84000   14.25463     Private room   \n",
       "4                  NaN         Porto  40.84308   14.25663  Entire home/apt   \n",
       "\n",
       "   price  minimum_nights  number_of_reviews last_review  reviews_per_month  \\\n",
       "0    103               1                  8  2019-09-12               0.09   \n",
       "1    300               2                 12  2022-06-05               0.10   \n",
       "2     90               1                 58  2022-06-04               0.48   \n",
       "3    220               2                 69  2022-07-31               0.67   \n",
       "4     55               1                 11  2019-04-27               0.11   \n",
       "\n",
       "   calculated_host_listings_count  availability_365  number_of_reviews_ltm  \\\n",
       "0                               2               347                      0   \n",
       "1                              11               325                      1   \n",
       "2                               6               337                      1   \n",
       "3                              11               364                      2   \n",
       "4                               1               317                      0   \n",
       "\n",
       "  license  \n",
       "0     NaN  \n",
       "1     NaN  \n",
       "2     NaN  \n",
       "3     NaN  \n",
       "4     NaN  "
      ]
     },
     "execution_count": 6,
     "metadata": {},
     "output_type": "execute_result"
    }
   ],
   "source": [
    "df_copy.head()"
   ]
  },
  {
   "cell_type": "markdown",
   "id": "2ab63b21",
   "metadata": {},
   "source": [
    "### Como não vamos precisar nem do id nem do host_id  para nenhuma análise nem estudo estatístico não vamos retirá-las do data frame . host_id e host_name nos dão a mesma informação porém como existem valores que estão em branco para o host_name vamos ficar com o host_id que não tem nenhum valor em branco"
   ]
  },
  {
   "cell_type": "code",
   "execution_count": 49,
   "id": "ad6724e7",
   "metadata": {},
   "outputs": [],
   "source": [
    "df_copy.drop([\"id\", \"host_name\"], axis=1, inplace=True)"
   ]
  },
  {
   "cell_type": "code",
   "execution_count": 40,
   "id": "ed6e9d0e",
   "metadata": {},
   "outputs": [
    {
     "data": {
      "text/html": [
       "<div>\n",
       "<style scoped>\n",
       "    .dataframe tbody tr th:only-of-type {\n",
       "        vertical-align: middle;\n",
       "    }\n",
       "\n",
       "    .dataframe tbody tr th {\n",
       "        vertical-align: top;\n",
       "    }\n",
       "\n",
       "    .dataframe thead th {\n",
       "        text-align: right;\n",
       "    }\n",
       "</style>\n",
       "<table border=\"1\" class=\"dataframe\">\n",
       "  <thead>\n",
       "    <tr style=\"text-align: right;\">\n",
       "      <th></th>\n",
       "      <th>name</th>\n",
       "      <th>host_id</th>\n",
       "      <th>neighbourhood_group</th>\n",
       "      <th>neighbourhood</th>\n",
       "      <th>latitude</th>\n",
       "      <th>longitude</th>\n",
       "      <th>room_type</th>\n",
       "      <th>price</th>\n",
       "      <th>minimum_nights</th>\n",
       "      <th>number_of_reviews</th>\n",
       "      <th>last_review</th>\n",
       "      <th>reviews_per_month</th>\n",
       "      <th>calculated_host_listings_count</th>\n",
       "      <th>availability_365</th>\n",
       "      <th>number_of_reviews_ltm</th>\n",
       "      <th>license</th>\n",
       "    </tr>\n",
       "  </thead>\n",
       "  <tbody>\n",
       "    <tr>\n",
       "      <th>0</th>\n",
       "      <td>luxury self –contained studios</td>\n",
       "      <td>3629429</td>\n",
       "      <td>NaN</td>\n",
       "      <td>San Lorenzo</td>\n",
       "      <td>40.85114</td>\n",
       "      <td>14.25063</td>\n",
       "      <td>Private room</td>\n",
       "      <td>103</td>\n",
       "      <td>1</td>\n",
       "      <td>8</td>\n",
       "      <td>2019-09-12</td>\n",
       "      <td>0.09</td>\n",
       "      <td>2</td>\n",
       "      <td>347</td>\n",
       "      <td>0</td>\n",
       "      <td>NaN</td>\n",
       "    </tr>\n",
       "    <tr>\n",
       "      <th>1</th>\n",
       "      <td>Casa Frammenti (ex DormidaMè Museo)</td>\n",
       "      <td>3647842</td>\n",
       "      <td>NaN</td>\n",
       "      <td>Avvocata</td>\n",
       "      <td>40.85330</td>\n",
       "      <td>14.24590</td>\n",
       "      <td>Private room</td>\n",
       "      <td>300</td>\n",
       "      <td>2</td>\n",
       "      <td>12</td>\n",
       "      <td>2022-06-05</td>\n",
       "      <td>0.10</td>\n",
       "      <td>11</td>\n",
       "      <td>325</td>\n",
       "      <td>1</td>\n",
       "      <td>NaN</td>\n",
       "    </tr>\n",
       "    <tr>\n",
       "      <th>2</th>\n",
       "      <td>nice seaview studio wifi in center</td>\n",
       "      <td>808350</td>\n",
       "      <td>NaN</td>\n",
       "      <td>Porto</td>\n",
       "      <td>40.84020</td>\n",
       "      <td>14.25516</td>\n",
       "      <td>Entire home/apt</td>\n",
       "      <td>90</td>\n",
       "      <td>1</td>\n",
       "      <td>58</td>\n",
       "      <td>2022-06-04</td>\n",
       "      <td>0.48</td>\n",
       "      <td>6</td>\n",
       "      <td>337</td>\n",
       "      <td>1</td>\n",
       "      <td>NaN</td>\n",
       "    </tr>\n",
       "  </tbody>\n",
       "</table>\n",
       "</div>"
      ],
      "text/plain": [
       "                                  name  host_id  neighbourhood_group  \\\n",
       "0       luxury self –contained studios  3629429                  NaN   \n",
       "1  Casa Frammenti (ex DormidaMè Museo)  3647842                  NaN   \n",
       "2   nice seaview studio wifi in center   808350                  NaN   \n",
       "\n",
       "  neighbourhood  latitude  longitude        room_type  price  minimum_nights  \\\n",
       "0   San Lorenzo  40.85114   14.25063     Private room    103               1   \n",
       "1      Avvocata  40.85330   14.24590     Private room    300               2   \n",
       "2         Porto  40.84020   14.25516  Entire home/apt     90               1   \n",
       "\n",
       "   number_of_reviews last_review  reviews_per_month  \\\n",
       "0                  8  2019-09-12               0.09   \n",
       "1                 12  2022-06-05               0.10   \n",
       "2                 58  2022-06-04               0.48   \n",
       "\n",
       "   calculated_host_listings_count  availability_365  number_of_reviews_ltm  \\\n",
       "0                               2               347                      0   \n",
       "1                              11               325                      1   \n",
       "2                               6               337                      1   \n",
       "\n",
       "  license  \n",
       "0     NaN  \n",
       "1     NaN  \n",
       "2     NaN  "
      ]
     },
     "execution_count": 40,
     "metadata": {},
     "output_type": "execute_result"
    }
   ],
   "source": [
    "df_copy.head(3)"
   ]
  },
  {
   "cell_type": "markdown",
   "id": "d3609675",
   "metadata": {},
   "source": [
    "### Podemos observar no gráfico abaixo que a percentagem de null values para as variáveis que possuem null values "
   ]
  },
  {
   "cell_type": "code",
   "execution_count": 50,
   "id": "8e56bf40",
   "metadata": {},
   "outputs": [
    {
     "data": {
      "image/png": "[encoded data removed]",
      "text/plain": [
       "<Figure size 600x200 with 1 Axes>"
      ]
     },
     "metadata": {
      "needs_background": "light"
     },
     "output_type": "display_data"
    }
   ],
   "source": [
    "plt.figure(figsize=(6,2), dpi=100)\n",
    "percentages_of_null = (df_copy.isnull().sum() / len(df_copy))*100\n",
    "percentages_of_null[percentages_of_null>0].sort_values().plot(kind=\"bar\")\n",
    "plt.title(\"Percentage of Null values for each variable\")\n",
    "plt.xticks(rotation=45);"
   ]
  },
  {
   "cell_type": "markdown",
   "id": "6540b36c",
   "metadata": {},
   "source": [
    "### Vamos retirar as variáveis 'licence' e 'neighbourhood_group' por terem 94% e 100% de valores em branco respevtivamente"
   ]
  },
  {
   "cell_type": "code",
   "execution_count": 51,
   "id": "eead10ff",
   "metadata": {},
   "outputs": [],
   "source": [
    "df_copy.drop([\"license\", \"neighbourhood_group\"], axis=1, inplace=True)"
   ]
  },
  {
   "cell_type": "code",
   "execution_count": 52,
   "id": "e7824504",
   "metadata": {},
   "outputs": [
    {
     "data": {
      "text/plain": [
       "last_review             17.579787\n",
       "reviews_per_month       17.579787\n",
       "license                 94.188830\n",
       "neighbourhood_group    100.000000\n",
       "dtype: float64"
      ]
     },
     "execution_count": 52,
     "metadata": {},
     "output_type": "execute_result"
    }
   ],
   "source": [
    "percentages_of_null[percentages_of_null>0].sort_values()"
   ]
  },
  {
   "cell_type": "markdown",
   "id": "1a563256",
   "metadata": {},
   "source": [
    "# A quem corresponde as reviews em falta?"
   ]
  },
  {
   "cell_type": "code",
   "execution_count": 53,
   "id": "c768e480",
   "metadata": {},
   "outputs": [
    {
     "name": "stdout",
     "output_type": "stream",
     "text": [
      "<class 'pandas.core.frame.DataFrame'>\n",
      "RangeIndex: 7520 entries, 0 to 7519\n",
      "Data columns (total 14 columns):\n",
      " #   Column                          Non-Null Count  Dtype  \n",
      "---  ------                          --------------  -----  \n",
      " 0   name                            7520 non-null   object \n",
      " 1   host_id                         7520 non-null   int64  \n",
      " 2   neighbourhood                   7520 non-null   object \n",
      " 3   latitude                        7520 non-null   float64\n",
      " 4   longitude                       7520 non-null   float64\n",
      " 5   room_type                       7520 non-null   object \n",
      " 6   price                           7520 non-null   int64  \n",
      " 7   minimum_nights                  7520 non-null   int64  \n",
      " 8   number_of_reviews               7520 non-null   int64  \n",
      " 9   last_review                     6198 non-null   object \n",
      " 10  reviews_per_month               6198 non-null   float64\n",
      " 11  calculated_host_listings_count  7520 non-null   int64  \n",
      " 12  availability_365                7520 non-null   int64  \n",
      " 13  number_of_reviews_ltm           7520 non-null   int64  \n",
      "dtypes: float64(3), int64(7), object(4)\n",
      "memory usage: 822.6+ KB\n"
     ]
    }
   ],
   "source": [
    "df_copy.info()"
   ]
  }
 ],
 "metadata": {
  "kernelspec": {
   "display_name": "Python 3 (ipykernel)",
   "language": "python",
   "name": "python3"
  },
  "language_info": {
   "codemirror_mode": {
    "name": "ipython",
    "version": 3
   },
   "file_extension": ".py",
   "mimetype": "text/x-python",
   "name": "python",
   "nbconvert_exporter": "python",
   "pygments_lexer": "ipython3",
   "version": "3.9.7"
  }
 },
 "nbformat": 4,
 "nbformat_minor": 5
}
